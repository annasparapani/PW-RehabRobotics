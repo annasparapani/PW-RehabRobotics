{
 "cells": [
  {
   "cell_type": "markdown",
   "metadata": {},
   "source": [
    "## Train LSTM model "
   ]
  },
  {
   "cell_type": "code",
   "execution_count": 1,
   "metadata": {},
   "outputs": [],
   "source": [
    "# Import required modules\n",
    "import os; os.environ['TF_CPP_MIN_LOG_LEVEL']='3'; \n",
    "import numpy as np\n",
    "import pandas as pd\n",
    "import tensorflow as tf\n",
    "import sklearn\n",
    "from sklearn import metrics as skmetrics\n",
    "import pickle\n",
    "from sklearn.model_selection import train_test_split\n",
    "import matplotlib.pyplot as plt\n",
    "from tensorflow.keras.callbacks import EarlyStopping"
   ]
  },
  {
   "cell_type": "code",
   "execution_count": 17,
   "metadata": {},
   "outputs": [],
   "source": [
    "# Project folder\n",
    "BASE_DIR = os.getcwd()\n",
    "# Data folder\n",
    "DATA_DIR = os.path.join(BASE_DIR, \"data\")\n",
    "# Model folder\n",
    "MODEL_DIR = os.path.join(BASE_DIR, \"model\")"
   ]
  },
  {
   "cell_type": "code",
   "execution_count": 18,
   "metadata": {},
   "outputs": [
    {
     "data": {
      "text/html": [
       "<div>\n",
       "<style scoped>\n",
       "    .dataframe tbody tr th:only-of-type {\n",
       "        vertical-align: middle;\n",
       "    }\n",
       "\n",
       "    .dataframe tbody tr th {\n",
       "        vertical-align: top;\n",
       "    }\n",
       "\n",
       "    .dataframe thead th {\n",
       "        text-align: right;\n",
       "    }\n",
       "</style>\n",
       "<table border=\"1\" class=\"dataframe\">\n",
       "  <thead>\n",
       "    <tr style=\"text-align: right;\">\n",
       "      <th></th>\n",
       "      <th>0</th>\n",
       "      <th>1</th>\n",
       "      <th>2</th>\n",
       "      <th>3</th>\n",
       "      <th>4</th>\n",
       "      <th>5</th>\n",
       "      <th>6</th>\n",
       "      <th>7</th>\n",
       "      <th>8</th>\n",
       "      <th>9</th>\n",
       "      <th>...</th>\n",
       "      <th>15</th>\n",
       "      <th>16</th>\n",
       "      <th>17</th>\n",
       "      <th>18</th>\n",
       "      <th>19</th>\n",
       "      <th>20</th>\n",
       "      <th>21</th>\n",
       "      <th>22</th>\n",
       "      <th>23</th>\n",
       "      <th>24</th>\n",
       "    </tr>\n",
       "  </thead>\n",
       "  <tbody>\n",
       "    <tr>\n",
       "      <th>71319</th>\n",
       "      <td>1.007042</td>\n",
       "      <td>7.840754</td>\n",
       "      <td>5.978798</td>\n",
       "      <td>1.244256</td>\n",
       "      <td>-0.431058</td>\n",
       "      <td>-0.335211</td>\n",
       "      <td>3.031690</td>\n",
       "      <td>0.456094</td>\n",
       "      <td>9.893867</td>\n",
       "      <td>0.458059</td>\n",
       "      <td>...</td>\n",
       "      <td>0.022640</td>\n",
       "      <td>0.001456</td>\n",
       "      <td>-0.043759</td>\n",
       "      <td>2.666283</td>\n",
       "      <td>0.630181</td>\n",
       "      <td>9.819594</td>\n",
       "      <td>-0.159723</td>\n",
       "      <td>-0.728338</td>\n",
       "      <td>-1.355485</td>\n",
       "      <td>3</td>\n",
       "    </tr>\n",
       "    <tr>\n",
       "      <th>59308</th>\n",
       "      <td>1.084071</td>\n",
       "      <td>8.887538</td>\n",
       "      <td>4.536681</td>\n",
       "      <td>-0.244877</td>\n",
       "      <td>-0.070771</td>\n",
       "      <td>-0.000070</td>\n",
       "      <td>3.068166</td>\n",
       "      <td>2.198045</td>\n",
       "      <td>9.061887</td>\n",
       "      <td>0.056177</td>\n",
       "      <td>...</td>\n",
       "      <td>-0.071544</td>\n",
       "      <td>-0.047325</td>\n",
       "      <td>-0.034502</td>\n",
       "      <td>1.429107</td>\n",
       "      <td>0.644706</td>\n",
       "      <td>9.840600</td>\n",
       "      <td>0.150627</td>\n",
       "      <td>-0.004655</td>\n",
       "      <td>0.072311</td>\n",
       "      <td>3</td>\n",
       "    </tr>\n",
       "    <tr>\n",
       "      <th>2955</th>\n",
       "      <td>0.968292</td>\n",
       "      <td>9.176218</td>\n",
       "      <td>4.795349</td>\n",
       "      <td>0.051630</td>\n",
       "      <td>-0.007358</td>\n",
       "      <td>-0.040887</td>\n",
       "      <td>4.015923</td>\n",
       "      <td>1.184864</td>\n",
       "      <td>8.532217</td>\n",
       "      <td>-0.078608</td>\n",
       "      <td>...</td>\n",
       "      <td>0.068453</td>\n",
       "      <td>0.006058</td>\n",
       "      <td>-0.008142</td>\n",
       "      <td>7.274650</td>\n",
       "      <td>0.159136</td>\n",
       "      <td>6.588433</td>\n",
       "      <td>0.025473</td>\n",
       "      <td>0.021175</td>\n",
       "      <td>-0.104691</td>\n",
       "      <td>0</td>\n",
       "    </tr>\n",
       "    <tr>\n",
       "      <th>67190</th>\n",
       "      <td>0.954229</td>\n",
       "      <td>9.020543</td>\n",
       "      <td>3.659977</td>\n",
       "      <td>0.015372</td>\n",
       "      <td>0.041928</td>\n",
       "      <td>-0.017126</td>\n",
       "      <td>4.187019</td>\n",
       "      <td>1.126034</td>\n",
       "      <td>8.847239</td>\n",
       "      <td>0.024080</td>\n",
       "      <td>...</td>\n",
       "      <td>0.033598</td>\n",
       "      <td>0.019472</td>\n",
       "      <td>-0.013652</td>\n",
       "      <td>8.560036</td>\n",
       "      <td>-0.420093</td>\n",
       "      <td>4.661757</td>\n",
       "      <td>0.017473</td>\n",
       "      <td>-0.005935</td>\n",
       "      <td>-0.004350</td>\n",
       "      <td>3</td>\n",
       "    </tr>\n",
       "    <tr>\n",
       "      <th>31827</th>\n",
       "      <td>0.143290</td>\n",
       "      <td>8.942200</td>\n",
       "      <td>3.599730</td>\n",
       "      <td>0.005645</td>\n",
       "      <td>0.067718</td>\n",
       "      <td>0.144945</td>\n",
       "      <td>4.214810</td>\n",
       "      <td>0.455700</td>\n",
       "      <td>10.708614</td>\n",
       "      <td>-0.080183</td>\n",
       "      <td>...</td>\n",
       "      <td>0.006500</td>\n",
       "      <td>-0.020946</td>\n",
       "      <td>-0.031268</td>\n",
       "      <td>8.922629</td>\n",
       "      <td>0.231932</td>\n",
       "      <td>5.538348</td>\n",
       "      <td>-0.355037</td>\n",
       "      <td>-0.341321</td>\n",
       "      <td>0.308552</td>\n",
       "      <td>2</td>\n",
       "    </tr>\n",
       "  </tbody>\n",
       "</table>\n",
       "<p>5 rows × 25 columns</p>\n",
       "</div>"
      ],
      "text/plain": [
       "             0         1         2         3         4         5         6   \\\n",
       "71319  1.007042  7.840754  5.978798  1.244256 -0.431058 -0.335211  3.031690   \n",
       "59308  1.084071  8.887538  4.536681 -0.244877 -0.070771 -0.000070  3.068166   \n",
       "2955   0.968292  9.176218  4.795349  0.051630 -0.007358 -0.040887  4.015923   \n",
       "67190  0.954229  9.020543  3.659977  0.015372  0.041928 -0.017126  4.187019   \n",
       "31827  0.143290  8.942200  3.599730  0.005645  0.067718  0.144945  4.214810   \n",
       "\n",
       "             7          8         9   ...        15        16        17  \\\n",
       "71319  0.456094   9.893867  0.458059  ...  0.022640  0.001456 -0.043759   \n",
       "59308  2.198045   9.061887  0.056177  ... -0.071544 -0.047325 -0.034502   \n",
       "2955   1.184864   8.532217 -0.078608  ...  0.068453  0.006058 -0.008142   \n",
       "67190  1.126034   8.847239  0.024080  ...  0.033598  0.019472 -0.013652   \n",
       "31827  0.455700  10.708614 -0.080183  ...  0.006500 -0.020946 -0.031268   \n",
       "\n",
       "             18        19        20        21        22        23  24  \n",
       "71319  2.666283  0.630181  9.819594 -0.159723 -0.728338 -1.355485   3  \n",
       "59308  1.429107  0.644706  9.840600  0.150627 -0.004655  0.072311   3  \n",
       "2955   7.274650  0.159136  6.588433  0.025473  0.021175 -0.104691   0  \n",
       "67190  8.560036 -0.420093  4.661757  0.017473 -0.005935 -0.004350   3  \n",
       "31827  8.922629  0.231932  5.538348 -0.355037 -0.341321  0.308552   2  \n",
       "\n",
       "[5 rows x 25 columns]"
      ]
     },
     "execution_count": 18,
     "metadata": {},
     "output_type": "execute_result"
    }
   ],
   "source": [
    "# Load data\n",
    "df = pd.read_csv(os.path.join(DATA_DIR, \"data_entire_eachSub.csv\"), header=None)\n",
    "#df = pd.read_csv('data_train.csv', header=None)\n",
    "df = df.sample(frac = 1) # shuffle the rows \n",
    "df.head()"
   ]
  },
  {
   "cell_type": "code",
   "execution_count": 20,
   "metadata": {},
   "outputs": [],
   "source": [
    "'''\n",
    "    *** Fixed parameters that are defined and should not be changed\n",
    "'''\n",
    "NUM_XSENS = 4\n",
    "INPUT_FEATURES = NUM_XSENS * 6"
   ]
  },
  {
   "cell_type": "code",
   "execution_count": 21,
   "metadata": {},
   "outputs": [],
   "source": [
    "'''\n",
    "    *** Parameters that should be tuned to solve the challenge ***\n",
    "'''\n",
    "\n",
    "# Number of tasks to classify (according to your experimental acquisition protocol)\n",
    "N_CLASSES = 4 \n",
    "# Length of the time window\n",
    "WINDOW_LENGTH = 5\n",
    "# Stride length (i.e., overlap between adjacent windows)\n",
    "STRIDE_LENGTH = 1\n",
    "\n",
    "# Learning rate\n",
    "learning_rate = 1e-3\n",
    "# Number of neurons for each LSTM layer\n",
    "neurons = [40, 20]\n",
    "# Dropout ratio for each LSTM layer \n",
    "dropouts = [0.15, 0.15]\n",
    "# Number of training epochs\n",
    "N_EPOCHS = 5\n",
    "# Batch size for training\n",
    "batch_size = 32\n",
    "\n",
    "# Please provide a dropout value for each LSTM layer\n",
    "# Set dropout[i] = 0.0 to keep all connections\n",
    "assert(len(neurons) == len(dropouts))"
   ]
  },
  {
   "cell_type": "code",
   "execution_count": 22,
   "metadata": {},
   "outputs": [
    {
     "name": "stdout",
     "output_type": "stream",
     "text": [
      "Input shape (X): (84363, 24) --- Output shape (y): (84363, 4)\n"
     ]
    }
   ],
   "source": [
    "# Data preparation\n",
    "X = df.iloc[:,0:-1].to_numpy()\n",
    "y = df.iloc[:,-1].to_numpy()\n",
    "y = tf.keras.utils.to_categorical(y)\n",
    "\n",
    "print(\"Input shape (X): {} --- Output shape (y): {}\".format(X.shape, y.shape))"
   ]
  },
  {
   "cell_type": "code",
   "execution_count": 23,
   "metadata": {},
   "outputs": [],
   "source": [
    "def build_sequences(df, y, window_length, input_features, stride):\n",
    "    # Sanity check to avoid runtime errors\n",
    "    assert window_length % stride == 0\n",
    "    dataset = []; labels = []\n",
    "    # Take only meaningful features\n",
    "    if type(df) == pd.core.frame.DataFrame:\n",
    "        temp = df.copy().values\n",
    "    else:\n",
    "        temp = df\n",
    "    # Compute padding length\n",
    "    padding_len = window_length - len(temp)%window_length\n",
    "    # Create padding and concatenate it\n",
    "    padding = np.zeros((padding_len, input_features), dtype='float64')\n",
    "    temp = np.concatenate((temp,padding))\n",
    "    # Build features windows with their corresponding labels\n",
    "    idx = 0\n",
    "    while idx+window_length < len(temp):\n",
    "        dataset.append(temp[idx:idx+window_length])\n",
    "        labels.append(y[idx])\n",
    "        idx += stride\n",
    "    dataset = np.array(dataset)\n",
    "    labels = np.array(labels)\n",
    "    return dataset, labels"
   ]
  },
  {
   "cell_type": "code",
   "execution_count": 24,
   "metadata": {},
   "outputs": [
    {
     "name": "stdout",
     "output_type": "stream",
     "text": [
      "Train sets shape: (67490, 24) (67490, 4)\n",
      "Train sets shape: (16873, 24) (16873, 4)\n"
     ]
    }
   ],
   "source": [
    "'''\n",
    "    NOTE: in this example, we open a single file and we apply the train_test_split function\n",
    "          to extract 80% for training and 20% for testing the model.\n",
    "          In your code, you will need to load 2 files, 1 for training and 1 for testing\n",
    "'''\n",
    "\n",
    "# Use stratify=y to stratify on y (target variable)\n",
    "X_train, X_test, y_train, y_test = train_test_split(X, y, test_size=0.2, stratify=y)\n",
    "\n",
    "print(\"Train sets shape: {} {}\".format(X_train.shape, y_train.shape))\n",
    "print(\"Train sets shape: {} {}\".format(X_test.shape, y_test.shape))\n"
   ]
  },
  {
   "cell_type": "code",
   "execution_count": 25,
   "metadata": {},
   "outputs": [],
   "source": [
    "# Fit and trasnform with scaler\n",
    "scaler = sklearn.preprocessing.MinMaxScaler((-1,1))\n",
    "scaler.fit(X_train)\n",
    "\n",
    "# Scale input (X) data \n",
    "X_train = scaler.transform(X_train)\n",
    "X_test = scaler.transform(X_test)"
   ]
  },
  {
   "cell_type": "code",
   "execution_count": 26,
   "metadata": {},
   "outputs": [
    {
     "name": "stdout",
     "output_type": "stream",
     "text": [
      "Train sets shape: (67490, 5, 24) (67490, 4)\n",
      "Train sets shape: (16870, 5, 24) (16870, 4)\n"
     ]
    }
   ],
   "source": [
    "# Convert to sequences of length WINDOW_LENGTH\n",
    "X_train, y_train = build_sequences(X_train, y_train, window_length=WINDOW_LENGTH, input_features=INPUT_FEATURES, stride=STRIDE_LENGTH)\n",
    "X_test, y_test = build_sequences(X_test, y_test, window_length=WINDOW_LENGTH, input_features=INPUT_FEATURES, stride=STRIDE_LENGTH)\n",
    "\n",
    "print(\"Train sets shape: {} {}\".format(X_train.shape, y_train.shape))\n",
    "print(\"Train sets shape: {} {}\".format(X_test.shape, y_test.shape))"
   ]
  },
  {
   "cell_type": "code",
   "execution_count": 27,
   "metadata": {},
   "outputs": [],
   "source": [
    "# LSTM model \n",
    "def lstm_model(neurons=neurons, dropouts=dropouts, learning_rate=learning_rate, output_classes=N_CLASSES, window=WINDOW_LENGTH, features=INPUT_FEATURES):\n",
    "    # Input layer\n",
    "    input_layer = tf.keras.layers.Input((window, features))\n",
    "    x = input_layer\n",
    "    # Build the model recursively based on the list of neurons for each LSTM cell\n",
    "    # Add a dropout layer after every LSTM layer\n",
    "    for i in range(len(neurons)):\n",
    "        y = tf.keras.layers.LSTM(neurons[i], activation = \"tanh\", return_sequences = not(i == len(neurons)-1), kernel_initializer = \"HeUniform\")(x)\n",
    "        y = tf.keras.layers.Dropout(dropouts[i])(y)\n",
    "        x = y\n",
    "    # Output layer with N_CLASSES neurons: each provides the probability that the input belongs to that class (their sum equals 1)\n",
    "    output_layer = tf.keras.layers.Dense(output_classes, activation='softmax', kernel_initializer=\"RandomNormal\", name='output_layer')(x)\n",
    "    # Build the model\n",
    "    model = tf.keras.Model(inputs=input_layer, outputs=output_layer, name='task-classifier')\n",
    "    # Optimizer\n",
    "    optimizer = tf.keras.optimizers.RMSprop(learning_rate=learning_rate)\n",
    "    # Compile and return the model\n",
    "    model.compile(loss='categorical_crossentropy', optimizer=optimizer, metrics=['accuracy'])\n",
    "    return model"
   ]
  },
  {
   "cell_type": "code",
   "execution_count": 28,
   "metadata": {},
   "outputs": [
    {
     "name": "stdout",
     "output_type": "stream",
     "text": [
      "Model: \"task-classifier\"\n",
      "_________________________________________________________________\n",
      " Layer (type)                Output Shape              Param #   \n",
      "=================================================================\n",
      " input_2 (InputLayer)        [(None, 5, 24)]           0         \n",
      "                                                                 \n",
      " lstm_2 (LSTM)               (None, 5, 40)             10400     \n",
      "                                                                 \n",
      " dropout_2 (Dropout)         (None, 5, 40)             0         \n",
      "                                                                 \n",
      " lstm_3 (LSTM)               (None, 20)                4880      \n",
      "                                                                 \n",
      " dropout_3 (Dropout)         (None, 20)                0         \n",
      "                                                                 \n",
      " output_layer (Dense)        (None, 4)                 84        \n",
      "                                                                 \n",
      "=================================================================\n",
      "Total params: 15,364\n",
      "Trainable params: 15,364\n",
      "Non-trainable params: 0\n",
      "_________________________________________________________________\n"
     ]
    }
   ],
   "source": [
    "# Create the LSTM model and print its structure\n",
    "model = lstm_model()\n",
    "model.summary()"
   ]
  },
  {
   "cell_type": "code",
   "execution_count": 29,
   "metadata": {},
   "outputs": [
    {
     "name": "stdout",
     "output_type": "stream",
     "text": [
      "Epoch 1/5\n",
      "2110/2110 [==============================] - 7s 3ms/step - loss: 0.5249 - accuracy: 0.8075 - val_loss: 0.3174 - val_accuracy: 0.8901\n",
      "Epoch 2/5\n",
      "2110/2110 [==============================] - 6s 3ms/step - loss: 0.2975 - accuracy: 0.8989 - val_loss: 0.2291 - val_accuracy: 0.9188\n",
      "Epoch 3/5\n",
      "2110/2110 [==============================] - 5s 2ms/step - loss: 0.2336 - accuracy: 0.9193 - val_loss: 0.1860 - val_accuracy: 0.9334\n",
      "Epoch 4/5\n",
      "2110/2110 [==============================] - 5s 2ms/step - loss: 0.1936 - accuracy: 0.9332 - val_loss: 0.1659 - val_accuracy: 0.9410\n",
      "Epoch 5/5\n",
      "2110/2110 [==============================] - 5s 2ms/step - loss: 0.1701 - accuracy: 0.9407 - val_loss: 0.1697 - val_accuracy: 0.9407\n"
     ]
    }
   ],
   "source": [
    "# Fit with train data (NOTE: early stopping is active)\n",
    "# Read more here: https://keras.io/api/callbacks/early_stopping/\n",
    "history = model.fit(X_train.reshape(-1, WINDOW_LENGTH, INPUT_FEATURES), y_train, \n",
    "          epochs=N_EPOCHS,\n",
    "          batch_size=batch_size, \n",
    "          validation_data=(X_test.reshape(-1, WINDOW_LENGTH, INPUT_FEATURES), y_test),\n",
    "          callbacks=EarlyStopping(monitor='val_loss', patience=8, mode='min', restore_best_weights=True))"
   ]
  },
  {
   "cell_type": "code",
   "execution_count": 31,
   "metadata": {},
   "outputs": [
    {
     "data": {
      "text/plain": [
       "<matplotlib.legend.Legend at 0x28e9ba350>"
      ]
     },
     "execution_count": 31,
     "metadata": {},
     "output_type": "execute_result"
    },
    {
     "data": {
      "image/png": "[encoded data removed]",
      "text/plain": [
       "<Figure size 640x480 with 1 Axes>"
      ]
     },
     "metadata": {},
     "output_type": "display_data"
    },
    {
     "data": {
      "image/png": "[encoded data removed]",
      "text/plain": [
       "<Figure size 640x480 with 1 Axes>"
      ]
     },
     "metadata": {},
     "output_type": "display_data"
    }
   ],
   "source": [
    "# Plot training history (loss and accuracy)\n",
    "epochs = range(1, N_EPOCHS+1)\n",
    "\n",
    "plt.plot(epochs, history.history['accuracy'], 'bo', label='Training acc')\n",
    "plt.plot(epochs, history.history['val_accuracy'], 'b', label='Validation acc')\n",
    "plt.title('Training and validation accuracy')\n",
    "plt.legend()\n",
    "\n",
    "plt.figure()\n",
    "\n",
    "plt.plot(epochs, history.history['loss'], 'bo', label='Training loss')\n",
    "plt.plot(epochs, history.history['val_loss'], 'b', label='Validation loss')\n",
    "plt.title('Training and validation loss')\n",
    "plt.legend()"
   ]
  },
  {
   "cell_type": "code",
   "execution_count": 32,
   "metadata": {},
   "outputs": [
    {
     "name": "stdout",
     "output_type": "stream",
     "text": [
      "16870/16870 [==============================] - 8s 475us/step\n",
      "Test accuracy: 94.07 %\n"
     ]
    }
   ],
   "source": [
    "# Model evaluation\n",
    "y_pred = model.predict(X_test.reshape(-1, WINDOW_LENGTH, INPUT_FEATURES), \n",
    "                       batch_size=1,   # predict with batch_size = 1 for real-time use                \n",
    ")\n",
    "y_pred = np.argmax(y_pred, axis=-1) # Convert to Nx1 array\n",
    "y_test = np.argmax(y_test, axis=-1)\n",
    "\n",
    "print(\"Test accuracy: {:4.2f} %\".format(100*skmetrics.accuracy_score(y_test, y_pred)))"
   ]
  },
  {
   "cell_type": "code",
   "execution_count": 33,
   "metadata": {},
   "outputs": [
    {
     "name": "stdout",
     "output_type": "stream",
     "text": [
      "Model exported to /Users/annasparapani/Library/Mobile Documents/com~apple~CloudDocs/Cartelle iMac/UNI /LMagistrale/Corsi/2.1 Neuroengineering/NE[2] Pedrocchi/Project Workshop/PW RR code/tensorflow/model\n"
     ]
    }
   ],
   "source": [
    "# Save model for real-time use\n",
    "try:\n",
    "    os.makedirs(MODEL_DIR)\n",
    "except FileExistsError:\n",
    "    pass\n",
    "try:\n",
    "    os.makedirs(MODEL_DIR)\n",
    "except FileExistsError:\n",
    "    pass\n",
    "\n",
    "model.save(os.path.join(MODEL_DIR, \"{}.h5\".format(model.name)))\n",
    "with open(os.path.join(MODEL_DIR, \"{}_scaler.h5\".format(model.name)), 'wb') as f:\n",
    "    pickle.dump(scaler,f)\n",
    "\n",
    "print(\"Model exported to {}\".format(MODEL_DIR))"
   ]
  }
 ],
 "metadata": {
  "kernelspec": {
   "display_name": "Python 3.10.8 ('venv': venv)",
   "language": "python",
   "name": "python3"
  },
  "language_info": {
   "codemirror_mode": {
    "name": "ipython",
    "version": 3
   },
   "file_extension": ".py",
   "mimetype": "text/x-python",
   "name": "python",
   "nbconvert_exporter": "python",
   "pygments_lexer": "ipython3",
   "version": "3.10.8"
  },
  "orig_nbformat": 4,
  "vscode": {
   "interpreter": {
    "hash": "450022d656ba3f1bae49db00a35c39520a847981960e90b9743b5293af547c64"
   }
  }
 },
 "nbformat": 4,
 "nbformat_minor": 2
}
