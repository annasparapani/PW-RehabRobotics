{
 "cells": [
  {
   "cell_type": "markdown",
   "metadata": {},
   "source": [
    "## Train LSTM model "
   ]
  },
  {
   "cell_type": "code",
   "execution_count": 2,
   "metadata": {},
   "outputs": [],
   "source": [
    "# Import required modules\n",
    "import os; os.environ['TF_CPP_MIN_LOG_LEVEL']='3'; \n",
    "import numpy as np\n",
    "import pandas as pd\n",
    "import tensorflow as tf\n",
    "import sklearn\n",
    "from sklearn import metrics as skmetrics\n",
    "import pickle\n",
    "from sklearn.model_selection import train_test_split\n",
    "import matplotlib.pyplot as plt\n",
    "from tensorflow.keras.callbacks import EarlyStopping"
   ]
  },
  {
   "cell_type": "code",
   "execution_count": 3,
   "metadata": {},
   "outputs": [],
   "source": [
    "# Project folder\n",
    "BASE_DIR = os.getcwd()\n",
    "# Data folder\n",
    "DATA_DIR = os.path.join(BASE_DIR, \"data\")\n",
    "# Model folder\n",
    "MODEL_DIR = os.path.join(BASE_DIR, \"model\")"
   ]
  },
  {
   "cell_type": "code",
   "execution_count": 4,
   "metadata": {},
   "outputs": [
    {
     "data": {
      "text/html": [
       "<div>\n",
       "<style scoped>\n",
       "    .dataframe tbody tr th:only-of-type {\n",
       "        vertical-align: middle;\n",
       "    }\n",
       "\n",
       "    .dataframe tbody tr th {\n",
       "        vertical-align: top;\n",
       "    }\n",
       "\n",
       "    .dataframe thead th {\n",
       "        text-align: right;\n",
       "    }\n",
       "</style>\n",
       "<table border=\"1\" class=\"dataframe\">\n",
       "  <thead>\n",
       "    <tr style=\"text-align: right;\">\n",
       "      <th></th>\n",
       "      <th>0</th>\n",
       "      <th>1</th>\n",
       "      <th>2</th>\n",
       "      <th>3</th>\n",
       "      <th>4</th>\n",
       "      <th>5</th>\n",
       "      <th>6</th>\n",
       "      <th>7</th>\n",
       "      <th>8</th>\n",
       "      <th>9</th>\n",
       "      <th>...</th>\n",
       "      <th>15</th>\n",
       "      <th>16</th>\n",
       "      <th>17</th>\n",
       "      <th>18</th>\n",
       "      <th>19</th>\n",
       "      <th>20</th>\n",
       "      <th>21</th>\n",
       "      <th>22</th>\n",
       "      <th>23</th>\n",
       "      <th>24</th>\n",
       "    </tr>\n",
       "  </thead>\n",
       "  <tbody>\n",
       "    <tr>\n",
       "      <th>0</th>\n",
       "      <td>-0.435999</td>\n",
       "      <td>9.333276</td>\n",
       "      <td>3.163077</td>\n",
       "      <td>0.008412</td>\n",
       "      <td>0.013030</td>\n",
       "      <td>-0.051731</td>\n",
       "      <td>3.286649</td>\n",
       "      <td>1.903171</td>\n",
       "      <td>10.072385</td>\n",
       "      <td>0.124278</td>\n",
       "      <td>...</td>\n",
       "      <td>0.067008</td>\n",
       "      <td>0.033603</td>\n",
       "      <td>-0.014731</td>\n",
       "      <td>5.308202</td>\n",
       "      <td>1.457947</td>\n",
       "      <td>8.473954</td>\n",
       "      <td>0.049354</td>\n",
       "      <td>0.128589</td>\n",
       "      <td>-0.004342</td>\n",
       "      <td>0</td>\n",
       "    </tr>\n",
       "    <tr>\n",
       "      <th>1</th>\n",
       "      <td>0.379209</td>\n",
       "      <td>8.292008</td>\n",
       "      <td>5.896656</td>\n",
       "      <td>1.239547</td>\n",
       "      <td>-0.236625</td>\n",
       "      <td>-0.395311</td>\n",
       "      <td>0.342760</td>\n",
       "      <td>-1.102890</td>\n",
       "      <td>8.863504</td>\n",
       "      <td>-0.249933</td>\n",
       "      <td>...</td>\n",
       "      <td>0.053695</td>\n",
       "      <td>0.005795</td>\n",
       "      <td>-0.028839</td>\n",
       "      <td>2.000651</td>\n",
       "      <td>-0.565427</td>\n",
       "      <td>9.668964</td>\n",
       "      <td>-0.300383</td>\n",
       "      <td>-0.732630</td>\n",
       "      <td>-1.673002</td>\n",
       "      <td>3</td>\n",
       "    </tr>\n",
       "    <tr>\n",
       "      <th>2</th>\n",
       "      <td>6.044558</td>\n",
       "      <td>5.488837</td>\n",
       "      <td>6.982038</td>\n",
       "      <td>0.623866</td>\n",
       "      <td>-0.778712</td>\n",
       "      <td>-1.864887</td>\n",
       "      <td>2.252187</td>\n",
       "      <td>-1.409794</td>\n",
       "      <td>8.252557</td>\n",
       "      <td>0.416348</td>\n",
       "      <td>...</td>\n",
       "      <td>-0.044456</td>\n",
       "      <td>-0.112226</td>\n",
       "      <td>-0.045160</td>\n",
       "      <td>3.997835</td>\n",
       "      <td>-3.583484</td>\n",
       "      <td>7.321064</td>\n",
       "      <td>0.058297</td>\n",
       "      <td>-0.629923</td>\n",
       "      <td>0.663067</td>\n",
       "      <td>1</td>\n",
       "    </tr>\n",
       "    <tr>\n",
       "      <th>3</th>\n",
       "      <td>2.974789</td>\n",
       "      <td>7.339714</td>\n",
       "      <td>6.368166</td>\n",
       "      <td>-0.676137</td>\n",
       "      <td>-0.632592</td>\n",
       "      <td>1.544789</td>\n",
       "      <td>8.246719</td>\n",
       "      <td>-1.704129</td>\n",
       "      <td>1.357354</td>\n",
       "      <td>-1.033536</td>\n",
       "      <td>...</td>\n",
       "      <td>0.090747</td>\n",
       "      <td>0.086601</td>\n",
       "      <td>0.027731</td>\n",
       "      <td>9.959971</td>\n",
       "      <td>-0.419618</td>\n",
       "      <td>3.842174</td>\n",
       "      <td>-1.364561</td>\n",
       "      <td>-0.253874</td>\n",
       "      <td>-0.480970</td>\n",
       "      <td>2</td>\n",
       "    </tr>\n",
       "    <tr>\n",
       "      <th>4</th>\n",
       "      <td>2.009309</td>\n",
       "      <td>3.444532</td>\n",
       "      <td>7.799185</td>\n",
       "      <td>0.439760</td>\n",
       "      <td>-0.364595</td>\n",
       "      <td>-1.271761</td>\n",
       "      <td>0.624367</td>\n",
       "      <td>1.550282</td>\n",
       "      <td>8.894447</td>\n",
       "      <td>-0.731978</td>\n",
       "      <td>...</td>\n",
       "      <td>0.180536</td>\n",
       "      <td>-0.000958</td>\n",
       "      <td>-0.027007</td>\n",
       "      <td>4.540139</td>\n",
       "      <td>-0.722846</td>\n",
       "      <td>7.219041</td>\n",
       "      <td>-0.382768</td>\n",
       "      <td>-0.063792</td>\n",
       "      <td>1.235754</td>\n",
       "      <td>1</td>\n",
       "    </tr>\n",
       "  </tbody>\n",
       "</table>\n",
       "<p>5 rows × 25 columns</p>\n",
       "</div>"
      ],
      "text/plain": [
       "         0         1         2         3         4         5         6   \\\n",
       "0 -0.435999  9.333276  3.163077  0.008412  0.013030 -0.051731  3.286649   \n",
       "1  0.379209  8.292008  5.896656  1.239547 -0.236625 -0.395311  0.342760   \n",
       "2  6.044558  5.488837  6.982038  0.623866 -0.778712 -1.864887  2.252187   \n",
       "3  2.974789  7.339714  6.368166 -0.676137 -0.632592  1.544789  8.246719   \n",
       "4  2.009309  3.444532  7.799185  0.439760 -0.364595 -1.271761  0.624367   \n",
       "\n",
       "         7          8         9   ...        15        16        17        18  \\\n",
       "0  1.903171  10.072385  0.124278  ...  0.067008  0.033603 -0.014731  5.308202   \n",
       "1 -1.102890   8.863504 -0.249933  ...  0.053695  0.005795 -0.028839  2.000651   \n",
       "2 -1.409794   8.252557  0.416348  ... -0.044456 -0.112226 -0.045160  3.997835   \n",
       "3 -1.704129   1.357354 -1.033536  ...  0.090747  0.086601  0.027731  9.959971   \n",
       "4  1.550282   8.894447 -0.731978  ...  0.180536 -0.000958 -0.027007  4.540139   \n",
       "\n",
       "         19        20        21        22        23  24  \n",
       "0  1.457947  8.473954  0.049354  0.128589 -0.004342   0  \n",
       "1 -0.565427  9.668964 -0.300383 -0.732630 -1.673002   3  \n",
       "2 -3.583484  7.321064  0.058297 -0.629923  0.663067   1  \n",
       "3 -0.419618  3.842174 -1.364561 -0.253874 -0.480970   2  \n",
       "4 -0.722846  7.219041 -0.382768 -0.063792  1.235754   1  \n",
       "\n",
       "[5 rows x 25 columns]"
      ]
     },
     "execution_count": 4,
     "metadata": {},
     "output_type": "execute_result"
    }
   ],
   "source": [
    "# Load data\n",
    "#df = pd.read_csv(os.path.join(DATA_DIR, \"data_entire_eachSub.csv\"), header=None)\n",
    "\n",
    "# Loading training and testing data separately.\n",
    "# `data_train_eachSub.csv` should contain 80% of the dataset to be used for training.\n",
    "# `data_test_eachSub.csv` should contain 20% of the dataset to be used for testing.\n",
    "df_train = pd.read_csv(os.path.join(DATA_DIR, \"train.csv\"), header=None)\n",
    "df_test = pd.read_csv(os.path.join(DATA_DIR, \"test.csv\"), header=None)\n",
    "#df = pd.read_csv('data_train.csv', header=None)\n",
    "df_test.head()"
   ]
  },
  {
   "cell_type": "code",
   "execution_count": 5,
   "metadata": {},
   "outputs": [],
   "source": [
    "'''\n",
    "    *** Fixed parameters that are defined and should not be changed\n",
    "'''\n",
    "NUM_XSENS = 4\n",
    "INPUT_FEATURES = NUM_XSENS * 6"
   ]
  },
  {
   "cell_type": "code",
   "execution_count": 6,
   "metadata": {},
   "outputs": [],
   "source": [
    "'''\n",
    "    *** Parameters that should be tuned to solve the challenge ***\n",
    "'''\n",
    "\n",
    "# Number of tasks to classify (according to your experimental acquisition protocol)\n",
    "N_CLASSES = 4 \n",
    "# Length of the time window\n",
    "WINDOW_LENGTH = 5\n",
    "# Stride length (i.e., overlap between adjacent windows)\n",
    "STRIDE_LENGTH = 1\n",
    "\n",
    "# Learning rate\n",
    "learning_rate = 1e-3\n",
    "# Number of neurons for each LSTM layer\n",
    "neurons = [40, 20]\n",
    "# Dropout ratio for each LSTM layer \n",
    "dropouts = [0.15, 0.15]\n",
    "# Number of training epochs\n",
    "N_EPOCHS = 5\n",
    "# Batch size for training\n",
    "batch_size = 32\n",
    "\n",
    "# Please provide a dropout value for each LSTM layer\n",
    "# Set dropout[i] = 0.0 to keep all connections\n",
    "assert(len(neurons) == len(dropouts))"
   ]
  },
  {
   "cell_type": "code",
   "execution_count": 7,
   "metadata": {},
   "outputs": [
    {
     "name": "stdout",
     "output_type": "stream",
     "text": [
      "TRAIN Input shape (X): (67490, 24) --- Output shape (y): (67490, 4)\n",
      "TEST  Input shape (X): (16873, 24) --- Output shape (y): (16873, 4)\n"
     ]
    }
   ],
   "source": [
    "# Data preparation\n",
    "#X = df.iloc[:,0:-1].to_numpy()\n",
    "#y = df.iloc[:,-1].to_numpy()\n",
    "#y = tf.keras.utils.to_categorical(y)\n",
    "\n",
    "# Apply pre-processing to both training and testing data\n",
    "\n",
    "X_train = df_train.iloc[:,0:-1].to_numpy()\n",
    "y_train = df_train.iloc[:,-1].to_numpy()\n",
    "y_train = tf.keras.utils.to_categorical(y_train)\n",
    "\n",
    "X_test = df_test.iloc[:,0:-1].to_numpy()\n",
    "y_test = df_test.iloc[:,-1].to_numpy()\n",
    "y_test = tf.keras.utils.to_categorical(y_test)\n",
    "\n",
    "#print(\"Input shape (X): {} --- Output shape (y): {}\".format(X.shape, y.shape))\n",
    "\n",
    "print(\"TRAIN Input shape (X): {} --- Output shape (y): {}\".format(X_train.shape, y_train.shape))\n",
    "print(\"TEST  Input shape (X): {} --- Output shape (y): {}\".format(X_test.shape, y_test.shape))"
   ]
  },
  {
   "cell_type": "code",
   "execution_count": 8,
   "metadata": {},
   "outputs": [],
   "source": [
    "def build_sequences(df, y, window_length, input_features, stride):\n",
    "    # Sanity check to avoid runtime errors\n",
    "    assert window_length % stride == 0\n",
    "    dataset = []; labels = []\n",
    "    # Take only meaningful features\n",
    "    if type(df) == pd.core.frame.DataFrame:\n",
    "        temp = df.copy().values\n",
    "    else:\n",
    "        temp = df\n",
    "    # Compute padding length\n",
    "    padding_len = window_length - len(temp)%window_length\n",
    "    # Create padding and concatenate it\n",
    "    padding = np.zeros((padding_len, input_features), dtype='float64')\n",
    "    temp = np.concatenate((temp,padding))\n",
    "    # Build features windows with their corresponding labels\n",
    "    idx = 0\n",
    "    while idx+window_length < len(temp):\n",
    "        dataset.append(temp[idx:idx+window_length])\n",
    "        labels.append(y[idx])\n",
    "        idx += stride\n",
    "    dataset = np.array(dataset)\n",
    "    labels = np.array(labels)\n",
    "    return dataset, labels"
   ]
  },
  {
   "cell_type": "code",
   "execution_count": 9,
   "metadata": {},
   "outputs": [
    {
     "name": "stdout",
     "output_type": "stream",
     "text": [
      "Train sets shape: (67490, 24) (67490, 4)\n",
      "Train sets shape: (16873, 24) (16873, 4)\n"
     ]
    }
   ],
   "source": [
    "'''\n",
    "    NOTE: in this example, we open a single file and we apply the train_test_split function\n",
    "          to extract 80% for training and 20% for testing the model.\n",
    "          In your code, you will need to load 2 files, 1 for training and 1 for testing\n",
    "'''\n",
    "\n",
    "# No need to use `train_test_split` function as the data was already loaded into two separate variables.\n",
    "\n",
    "# Use stratify=y to stratify on y (target variable)\n",
    "#X_train, X_test, y_train, y_test = train_test_split(X, y, test_size=0.2, stratify=y)\n",
    "\n",
    "print(\"Train sets shape: {} {}\".format(X_train.shape, y_train.shape))\n",
    "print(\"Train sets shape: {} {}\".format(X_test.shape, y_test.shape))\n"
   ]
  },
  {
   "cell_type": "code",
   "execution_count": 10,
   "metadata": {},
   "outputs": [],
   "source": [
    "# Fit and trasnform with scaler\n",
    "scaler = sklearn.preprocessing.MinMaxScaler((-1,1))\n",
    "scaler.fit(X_train)\n",
    "\n",
    "# Scale input (X) data \n",
    "X_train = scaler.transform(X_train)\n",
    "X_test = scaler.transform(X_test)"
   ]
  },
  {
   "cell_type": "code",
   "execution_count": 11,
   "metadata": {},
   "outputs": [
    {
     "name": "stdout",
     "output_type": "stream",
     "text": [
      "Train sets shape: (67490, 5, 24) (67490, 4)\n",
      "Train sets shape: (16870, 5, 24) (16870, 4)\n"
     ]
    }
   ],
   "source": [
    "# Convert to sequences of length WINDOW_LENGTH\n",
    "X_train, y_train = build_sequences(X_train, y_train, window_length=WINDOW_LENGTH, input_features=INPUT_FEATURES, stride=STRIDE_LENGTH)\n",
    "X_test, y_test = build_sequences(X_test, y_test, window_length=WINDOW_LENGTH, input_features=INPUT_FEATURES, stride=STRIDE_LENGTH)\n",
    "\n",
    "print(\"Train sets shape: {} {}\".format(X_train.shape, y_train.shape))\n",
    "print(\"Train sets shape: {} {}\".format(X_test.shape, y_test.shape))"
   ]
  },
  {
   "cell_type": "code",
   "execution_count": 12,
   "metadata": {},
   "outputs": [],
   "source": [
    "# LSTM model \n",
    "def lstm_model(neurons=neurons, dropouts=dropouts, learning_rate=learning_rate, output_classes=N_CLASSES, window=WINDOW_LENGTH, features=INPUT_FEATURES):\n",
    "    # Input layer\n",
    "    input_layer = tf.keras.layers.Input((window, features))\n",
    "    x = input_layer\n",
    "    # Build the model recursively based on the list of neurons for each LSTM cell\n",
    "    # Add a dropout layer after every LSTM layer\n",
    "    for i in range(len(neurons)):\n",
    "        y = tf.keras.layers.LSTM(neurons[i], activation = \"tanh\", return_sequences = not(i == len(neurons)-1), kernel_initializer = \"HeUniform\")(x)\n",
    "        y = tf.keras.layers.Dropout(dropouts[i])(y)\n",
    "        x = y\n",
    "    # Output layer with N_CLASSES neurons: each provides the probability that the input belongs to that class (their sum equals 1)\n",
    "    output_layer = tf.keras.layers.Dense(output_classes, activation='softmax', kernel_initializer=\"RandomNormal\", name='output_layer')(x)\n",
    "    # Build the model\n",
    "    model = tf.keras.Model(inputs=input_layer, outputs=output_layer, name='task-classifier')\n",
    "    # Optimizer\n",
    "    optimizer = tf.keras.optimizers.RMSprop(learning_rate=learning_rate)\n",
    "    # Compile and return the model\n",
    "    model.compile(loss='categorical_crossentropy', optimizer=optimizer, metrics=['accuracy'])\n",
    "    return model"
   ]
  },
  {
   "cell_type": "code",
   "execution_count": 13,
   "metadata": {},
   "outputs": [
    {
     "name": "stdout",
     "output_type": "stream",
     "text": [
      "Model: \"task-classifier\"\n",
      "_________________________________________________________________\n",
      " Layer (type)                Output Shape              Param #   \n",
      "=================================================================\n",
      " input_1 (InputLayer)        [(None, 5, 24)]           0         \n",
      "                                                                 \n",
      " lstm (LSTM)                 (None, 5, 40)             10400     \n",
      "                                                                 \n",
      " dropout (Dropout)           (None, 5, 40)             0         \n",
      "                                                                 \n",
      " lstm_1 (LSTM)               (None, 20)                4880      \n",
      "                                                                 \n",
      " dropout_1 (Dropout)         (None, 20)                0         \n",
      "                                                                 \n",
      " output_layer (Dense)        (None, 4)                 84        \n",
      "                                                                 \n",
      "=================================================================\n",
      "Total params: 15,364\n",
      "Trainable params: 15,364\n",
      "Non-trainable params: 0\n",
      "_________________________________________________________________\n"
     ]
    }
   ],
   "source": [
    "# Create the LSTM model and print its structure\n",
    "model = lstm_model()\n",
    "model.summary()"
   ]
  },
  {
   "cell_type": "code",
   "execution_count": 14,
   "metadata": {},
   "outputs": [
    {
     "name": "stdout",
     "output_type": "stream",
     "text": [
      "Epoch 1/5\n",
      "2110/2110 [==============================] - 40s 16ms/step - loss: 0.5415 - accuracy: 0.7965 - val_loss: 0.3415 - val_accuracy: 0.8838\n",
      "Epoch 2/5\n",
      "2110/2110 [==============================] - 31s 15ms/step - loss: 0.3065 - accuracy: 0.8958 - val_loss: 0.2503 - val_accuracy: 0.9136\n",
      "Epoch 3/5\n",
      "2110/2110 [==============================] - 30s 14ms/step - loss: 0.2386 - accuracy: 0.9198 - val_loss: 0.2096 - val_accuracy: 0.9260\n",
      "Epoch 4/5\n",
      "2110/2110 [==============================] - 32s 15ms/step - loss: 0.2033 - accuracy: 0.9305 - val_loss: 0.2067 - val_accuracy: 0.9233\n",
      "Epoch 5/5\n",
      "2110/2110 [==============================] - 33s 16ms/step - loss: 0.1815 - accuracy: 0.9387 - val_loss: 0.1647 - val_accuracy: 0.9427\n"
     ]
    }
   ],
   "source": [
    "# Fit with train data (NOTE: early stopping is active)\n",
    "# Read more here: https://keras.io/api/callbacks/early_stopping/\n",
    "history = model.fit(X_train.reshape(-1, WINDOW_LENGTH, INPUT_FEATURES), y_train, \n",
    "          epochs=N_EPOCHS,\n",
    "          batch_size=batch_size, \n",
    "          validation_data=(X_test.reshape(-1, WINDOW_LENGTH, INPUT_FEATURES), y_test),\n",
    "          callbacks=EarlyStopping(monitor='val_loss', patience=8, mode='min', restore_best_weights=True))"
   ]
  },
  {
   "cell_type": "code",
   "execution_count": 15,
   "metadata": {},
   "outputs": [
    {
     "data": {
      "text/plain": [
       "<matplotlib.legend.Legend at 0x1c417ac7fd0>"
      ]
     },
     "execution_count": 15,
     "metadata": {},
     "output_type": "execute_result"
    },
    {
     "data": {
      "image/png": "[encoded data removed]",
      "text/plain": [
       "<Figure size 640x480 with 1 Axes>"
      ]
     },
     "metadata": {},
     "output_type": "display_data"
    },
    {
     "data": {
      "image/png": "[encoded data removed]",
      "text/plain": [
       "<Figure size 640x480 with 1 Axes>"
      ]
     },
     "metadata": {},
     "output_type": "display_data"
    }
   ],
   "source": [
    "# Plot training history (loss and accuracy)\n",
    "epochs = range(1, N_EPOCHS+1)\n",
    "\n",
    "plt.plot(epochs, history.history['accuracy'], 'bo', label='Training acc')\n",
    "plt.plot(epochs, history.history['val_accuracy'], 'b', label='Validation acc')\n",
    "plt.title('Training and validation accuracy')\n",
    "plt.legend()\n",
    "\n",
    "plt.figure()\n",
    "\n",
    "plt.plot(epochs, history.history['loss'], 'bo', label='Training loss')\n",
    "plt.plot(epochs, history.history['val_loss'], 'b', label='Validation loss')\n",
    "plt.title('Training and validation loss')\n",
    "plt.legend()"
   ]
  },
  {
   "cell_type": "code",
   "execution_count": 16,
   "metadata": {},
   "outputs": [
    {
     "name": "stdout",
     "output_type": "stream",
     "text": [
      "16870/16870 [==============================] - 61s 4ms/step\n",
      "Test accuracy: 94.27 %\n"
     ]
    }
   ],
   "source": [
    "# Model evaluation\n",
    "y_pred = model.predict(X_test.reshape(-1, WINDOW_LENGTH, INPUT_FEATURES), \n",
    "                       batch_size=1,   # predict with batch_size = 1 for real-time use                \n",
    ")\n",
    "y_pred = np.argmax(y_pred, axis=-1) # Convert to Nx1 array\n",
    "y_test = np.argmax(y_test, axis=-1)\n",
    "\n",
    "print(\"Test accuracy: {:4.2f} %\".format(100*skmetrics.accuracy_score(y_test, y_pred)))"
   ]
  },
  {
   "cell_type": "code",
   "execution_count": 17,
   "metadata": {},
   "outputs": [
    {
     "name": "stdout",
     "output_type": "stream",
     "text": [
      "Model exported to c:\\Users\\Elisa\\Desktop\\Neuroengeneering\\PW-FES-master\\tensorflow\\model\n"
     ]
    }
   ],
   "source": [
    "# Save model for real-time use\n",
    "try:\n",
    "    os.makedirs(MODEL_DIR)\n",
    "except FileExistsError:\n",
    "    pass\n",
    "try:\n",
    "    os.makedirs(MODEL_DIR)\n",
    "except FileExistsError:\n",
    "    pass\n",
    "\n",
    "model.save(os.path.join(MODEL_DIR, \"{}.h5\".format(model.name)))\n",
    "with open(os.path.join(MODEL_DIR, \"{}_scaler.h5\".format(model.name)), 'wb') as f:\n",
    "    pickle.dump(scaler,f)\n",
    "\n",
    "print(\"Model exported to {}\".format(MODEL_DIR))"
   ]
  },
  {
   "cell_type": "code",
   "execution_count": null,
   "metadata": {},
   "outputs": [],
   "source": []
  }
 ],
 "metadata": {
  "kernelspec": {
   "display_name": "Python 3.9.13 64-bit (microsoft store)",
   "language": "python",
   "name": "python3"
  },
  "language_info": {
   "codemirror_mode": {
    "name": "ipython",
    "version": 3
   },
   "file_extension": ".py",
   "mimetype": "text/x-python",
   "name": "python",
   "nbconvert_exporter": "python",
   "pygments_lexer": "ipython3",
   "version": "3.9.13"
  },
  "vscode": {
   "interpreter": {
    "hash": "74b7631fb69f33adaa6e877f206e43272046cf71c30156d0f4f26ee7fcfb2181"
   }
  }
 },
 "nbformat": 4,
 "nbformat_minor": 2
}
